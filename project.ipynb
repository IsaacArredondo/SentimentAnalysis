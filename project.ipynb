version https://git-lfs.github.com/spec/v1
oid sha256:7a805ec4561ecbd27cf0b859f02658d260c5e04d9f455d4a296a414cf4b9c9fe
size 27358443
