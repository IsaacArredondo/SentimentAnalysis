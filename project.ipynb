version https://git-lfs.github.com/spec/v1
oid sha256:34a741b709917670739b49dd509d06ce86e115b49fb2362921d8fccd93cbe9bd
size 27366705
